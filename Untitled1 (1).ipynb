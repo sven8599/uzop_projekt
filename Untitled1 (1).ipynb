{
  "nbformat": 4,
  "nbformat_minor": 0,
  "metadata": {
    "colab": {
      "provenance": [],
      "collapsed_sections": []
    },
    "kernelspec": {
      "name": "python3",
      "display_name": "Python 3"
    },
    "language_info": {
      "name": "python"
    }
  },
  "cells": [
    {
      "cell_type": "code",
      "execution_count": 21,
      "metadata": {
        "id": "HJg-CUqd45Hy"
      },
      "outputs": [],
      "source": [
        "import numpy as np\n",
        "import pandas as pd\n",
        "from sklearn.ensemble import RandomForestClassifier, ExtraTreesClassifier\n",
        "from sklearn.metrics import accuracy_score, confusion_matrix\n",
        "from sklearn.model_selection import train_test_split\n",
        "from sklearn.preprocessing import OneHotEncoder, LabelEncoder\n",
        "from sklearn.model_selection import cross_val_score\n",
        "from sklearn.feature_selection import SelectKBest, mutual_info_classif\n",
        "\n",
        "import matplotlib.pyplot as plt\n",
        "import seaborn as sns"
      ]
    },
    {
      "cell_type": "code",
      "source": [
        "import warnings\n",
        "warnings.filterwarnings('ignore')"
      ],
      "metadata": {
        "id": "2xp4uGx-7NZJ"
      },
      "execution_count": 3,
      "outputs": []
    },
    {
      "cell_type": "code",
      "source": [
        "url='https://drive.google.com/file/d/1a1pWKh9W3jpNuSs0j8AcRsJsEBxmX4SV/view?usp=share_link'\n",
        "url='https://drive.google.com/uc?id=' + url.split('/')[-2]\n",
        "assessments = pd.read_csv(url)\n",
        "\n",
        "url='https://drive.google.com/file/d/10DJXVfaf1B9B9LoebzbBEV7DUrJbPh6l/view?usp=share_link'\n",
        "url='https://drive.google.com/uc?id=' + url.split('/')[-2]\n",
        "courses = pd.read_csv(url)\n",
        "\n",
        "url='https://drive.google.com/file/d/1Rcl06lqRpzj-5oH-Chws_-562wyNANWz/view?usp=share_link'\n",
        "url='https://drive.google.com/uc?id=' + url.split('/')[-2]\n",
        "studentAssessment = pd.read_csv(url)\n",
        "\n",
        "url='https://drive.google.com/file/d/1U_RE2G_ELFhR_YeyXt2cGF_W69Lu6IJC/view?usp=share_link'\n",
        "url='https://drive.google.com/uc?id=' + url.split('/')[-2]\n",
        "studentInfo = pd.read_csv(url)\n",
        "\n",
        "url='https://drive.google.com/file/d/1nbUgYN4WBFq_KJuFm9_vUm9je5YiZX6E/view?usp=share_link'\n",
        "url='https://drive.google.com/uc?id=' + url.split('/')[-2]\n",
        "studentRegistration = pd.read_csv(url)\n",
        "\n",
        "url='https://drive.google.com/file/d/1dWdzGnVhEUQVByx3t5V-WeMxF2hbVhnt/view?usp=share_link'\n",
        "url='https://drive.google.com/uc?id=' + url.split('/')[-2]\n",
        "studentVle = pd.read_csv(url)\n",
        "\n",
        "url='https://drive.google.com/file/d/1A765faofjN_v8XBIXt_0BBGR1QSz1Rw4/view?usp=share_link'\n",
        "url='https://drive.google.com/uc?id=' + url.split('/')[-2]\n",
        "vle = pd.read_csv(url)"
      ],
      "metadata": {
        "id": "85j_CbI345yh"
      },
      "execution_count": 12,
      "outputs": []
    },
    {
      "cell_type": "markdown",
      "source": [
        "# Početni pregled svih 7 tablica, pregled tipova podataka i deskriptivna statistika."
      ],
      "metadata": {
        "id": "Up2MW6FKhelW"
      }
    },
    {
      "cell_type": "markdown",
      "source": [
        "## assessments.csv"
      ],
      "metadata": {
        "id": "xXPSaVGeivIi"
      }
    },
    {
      "cell_type": "code",
      "source": [
        "print(assessments.columns.values)\n",
        "print(assessments.head())\n",
        "print()\n",
        "print(assessments.info())\n",
        "print()\n",
        "print(assessments.describe())\n",
        "print()\n",
        "print(assessments.isna().sum())\n",
        "print()\n",
        "print()\n",
        "\n",
        "#ubaci srednju vrijednost 'date' tamo gdje nedostaje ta informacija\n",
        "X_tmp = assessments.copy()\n",
        "X_tmp.loc[X_tmp.date.isna(),'date'] = X_tmp.loc[:,'date'].mean()\n",
        "#vidimo da sad nema nedostajućih vrijednosti u stupcu date\n",
        "print(X_tmp.isna().sum())"
      ],
      "metadata": {
        "colab": {
          "base_uri": "https://localhost:8080/"
        },
        "id": "F7UBMiyG667A",
        "outputId": "be2fd544-042d-45e0-cbbb-226725e1f354"
      },
      "execution_count": 38,
      "outputs": [
        {
          "output_type": "stream",
          "name": "stdout",
          "text": [
            "['code_module' 'code_presentation' 'id_assessment' 'assessment_type'\n",
            " 'date' 'weight']\n",
            "  code_module code_presentation  id_assessment assessment_type   date  weight\n",
            "0         AAA             2013J           1752             TMA   19.0    10.0\n",
            "1         AAA             2013J           1753             TMA   54.0    20.0\n",
            "2         AAA             2013J           1754             TMA  117.0    20.0\n",
            "3         AAA             2013J           1755             TMA  166.0    20.0\n",
            "4         AAA             2013J           1756             TMA  215.0    30.0\n",
            "\n",
            "<class 'pandas.core.frame.DataFrame'>\n",
            "RangeIndex: 206 entries, 0 to 205\n",
            "Data columns (total 6 columns):\n",
            " #   Column             Non-Null Count  Dtype  \n",
            "---  ------             --------------  -----  \n",
            " 0   code_module        206 non-null    object \n",
            " 1   code_presentation  206 non-null    object \n",
            " 2   id_assessment      206 non-null    int64  \n",
            " 3   assessment_type    206 non-null    object \n",
            " 4   date               195 non-null    float64\n",
            " 5   weight             206 non-null    float64\n",
            "dtypes: float64(2), int64(1), object(3)\n",
            "memory usage: 9.8+ KB\n",
            "None\n",
            "\n",
            "       id_assessment        date      weight\n",
            "count     206.000000  195.000000  206.000000\n",
            "mean    26473.975728  145.005128   20.873786\n",
            "std     10098.625521   76.001119   30.384224\n",
            "min      1752.000000   12.000000    0.000000\n",
            "25%     15023.250000   71.000000    0.000000\n",
            "50%     25364.500000  152.000000   12.500000\n",
            "75%     34891.750000  222.000000   24.250000\n",
            "max     40088.000000  261.000000  100.000000\n",
            "\n",
            "code_module           0\n",
            "code_presentation     0\n",
            "id_assessment         0\n",
            "assessment_type       0\n",
            "date                 11\n",
            "weight                0\n",
            "dtype: int64\n",
            "\n",
            "\n",
            "code_module          0\n",
            "code_presentation    0\n",
            "id_assessment        0\n",
            "assessment_type      0\n",
            "date                 0\n",
            "weight               0\n",
            "dtype: int64\n"
          ]
        }
      ]
    },
    {
      "cell_type": "markdown",
      "source": [
        "## courses.csv"
      ],
      "metadata": {
        "id": "qvN4Es-liqKh"
      }
    },
    {
      "cell_type": "code",
      "source": [
        "print(courses.head())\n",
        "print()\n",
        "print(courses.info())\n",
        "print()\n",
        "print(courses.describe())\n",
        "print()\n",
        "print(courses.isna().sum())"
      ],
      "metadata": {
        "colab": {
          "base_uri": "https://localhost:8080/"
        },
        "id": "3FK-RPdEenGJ",
        "outputId": "04570757-554c-4fc5-e308-2f7482648a89"
      },
      "execution_count": 6,
      "outputs": [
        {
          "output_type": "stream",
          "name": "stdout",
          "text": [
            "  code_module code_presentation  module_presentation_length\n",
            "0         AAA             2013J                         268\n",
            "1         AAA             2014J                         269\n",
            "2         BBB             2013J                         268\n",
            "3         BBB             2014J                         262\n",
            "4         BBB             2013B                         240\n",
            "\n",
            "<class 'pandas.core.frame.DataFrame'>\n",
            "RangeIndex: 22 entries, 0 to 21\n",
            "Data columns (total 3 columns):\n",
            " #   Column                      Non-Null Count  Dtype \n",
            "---  ------                      --------------  ----- \n",
            " 0   code_module                 22 non-null     object\n",
            " 1   code_presentation           22 non-null     object\n",
            " 2   module_presentation_length  22 non-null     int64 \n",
            "dtypes: int64(1), object(2)\n",
            "memory usage: 656.0+ bytes\n",
            "None\n",
            "\n",
            "       module_presentation_length\n",
            "count                   22.000000\n",
            "mean                   255.545455\n",
            "std                     13.654677\n",
            "min                    234.000000\n",
            "25%                    241.000000\n",
            "50%                    261.500000\n",
            "75%                    268.000000\n",
            "max                    269.000000\n",
            "\n",
            "code_module                   0\n",
            "code_presentation             0\n",
            "module_presentation_length    0\n",
            "dtype: int64\n"
          ]
        }
      ]
    },
    {
      "cell_type": "markdown",
      "source": [
        "## studentAssessment.csv"
      ],
      "metadata": {
        "id": "SvhlCy2pimsA"
      }
    },
    {
      "cell_type": "code",
      "source": [
        "print(studentAssessment.head())\n",
        "print()\n",
        "print(studentAssessment.info())\n",
        "print()\n",
        "print(studentAssessment.describe())\n",
        "print()\n",
        "print(studentAssessment.isna().sum())"
      ],
      "metadata": {
        "colab": {
          "base_uri": "https://localhost:8080/"
        },
        "id": "If7o4t5VfEMP",
        "outputId": "0974afaa-c9b7-46ef-d105-5e5e5d9247d2"
      },
      "execution_count": 7,
      "outputs": [
        {
          "output_type": "stream",
          "name": "stdout",
          "text": [
            "   id_assessment  id_student  date_submitted  is_banked  score\n",
            "0           1752       11391              18          0   78.0\n",
            "1           1752       28400              22          0   70.0\n",
            "2           1752       31604              17          0   72.0\n",
            "3           1752       32885              26          0   69.0\n",
            "4           1752       38053              19          0   79.0\n",
            "\n",
            "<class 'pandas.core.frame.DataFrame'>\n",
            "RangeIndex: 173912 entries, 0 to 173911\n",
            "Data columns (total 5 columns):\n",
            " #   Column          Non-Null Count   Dtype  \n",
            "---  ------          --------------   -----  \n",
            " 0   id_assessment   173912 non-null  int64  \n",
            " 1   id_student      173912 non-null  int64  \n",
            " 2   date_submitted  173912 non-null  int64  \n",
            " 3   is_banked       173912 non-null  int64  \n",
            " 4   score           173739 non-null  float64\n",
            "dtypes: float64(1), int64(4)\n",
            "memory usage: 6.6 MB\n",
            "None\n",
            "\n",
            "       id_assessment    id_student  date_submitted      is_banked  \\\n",
            "count  173912.000000  1.739120e+05   173912.000000  173912.000000   \n",
            "mean    26553.803556  7.051507e+05      116.032942       0.010977   \n",
            "std      8829.784254  5.523952e+05       71.484148       0.104194   \n",
            "min      1752.000000  6.516000e+03      -11.000000       0.000000   \n",
            "25%     15022.000000  5.044290e+05       51.000000       0.000000   \n",
            "50%     25359.000000  5.852080e+05      116.000000       0.000000   \n",
            "75%     34883.000000  6.344980e+05      173.000000       0.000000   \n",
            "max     37443.000000  2.698588e+06      608.000000       1.000000   \n",
            "\n",
            "               score  \n",
            "count  173739.000000  \n",
            "mean       75.799573  \n",
            "std        18.798107  \n",
            "min         0.000000  \n",
            "25%        65.000000  \n",
            "50%        80.000000  \n",
            "75%        90.000000  \n",
            "max       100.000000  \n",
            "\n",
            "id_assessment       0\n",
            "id_student          0\n",
            "date_submitted      0\n",
            "is_banked           0\n",
            "score             173\n",
            "dtype: int64\n"
          ]
        }
      ]
    },
    {
      "cell_type": "markdown",
      "source": [
        "## studentInfo.csv"
      ],
      "metadata": {
        "id": "XscNjIKuih86"
      }
    },
    {
      "cell_type": "code",
      "source": [
        "print(studentInfo.head())\n",
        "print()\n",
        "print(studentInfo.info())\n",
        "print()\n",
        "print(studentInfo.describe())\n",
        "print()\n",
        "print(studentInfo.isna().sum())"
      ],
      "metadata": {
        "colab": {
          "base_uri": "https://localhost:8080/"
        },
        "id": "rHj2ZIXbfQxf",
        "outputId": "3909481e-7e24-4a39-d1cd-3c78e94189ac"
      },
      "execution_count": 8,
      "outputs": [
        {
          "output_type": "stream",
          "name": "stdout",
          "text": [
            "  code_module code_presentation  id_student gender                region  \\\n",
            "0         AAA             2013J       11391      M   East Anglian Region   \n",
            "1         AAA             2013J       28400      F              Scotland   \n",
            "2         AAA             2013J       30268      F  North Western Region   \n",
            "3         AAA             2013J       31604      F     South East Region   \n",
            "4         AAA             2013J       32885      F  West Midlands Region   \n",
            "\n",
            "       highest_education imd_band age_band  num_of_prev_attempts  \\\n",
            "0       HE Qualification  90-100%     55<=                     0   \n",
            "1       HE Qualification   20-30%    35-55                     0   \n",
            "2  A Level or Equivalent   30-40%    35-55                     0   \n",
            "3  A Level or Equivalent   50-60%    35-55                     0   \n",
            "4     Lower Than A Level   50-60%     0-35                     0   \n",
            "\n",
            "   studied_credits disability final_result  \n",
            "0              240          N         Pass  \n",
            "1               60          N         Pass  \n",
            "2               60          Y    Withdrawn  \n",
            "3               60          N         Pass  \n",
            "4               60          N         Pass  \n",
            "\n",
            "<class 'pandas.core.frame.DataFrame'>\n",
            "RangeIndex: 32593 entries, 0 to 32592\n",
            "Data columns (total 12 columns):\n",
            " #   Column                Non-Null Count  Dtype \n",
            "---  ------                --------------  ----- \n",
            " 0   code_module           32593 non-null  object\n",
            " 1   code_presentation     32593 non-null  object\n",
            " 2   id_student            32593 non-null  int64 \n",
            " 3   gender                32593 non-null  object\n",
            " 4   region                32593 non-null  object\n",
            " 5   highest_education     32593 non-null  object\n",
            " 6   imd_band              31482 non-null  object\n",
            " 7   age_band              32593 non-null  object\n",
            " 8   num_of_prev_attempts  32593 non-null  int64 \n",
            " 9   studied_credits       32593 non-null  int64 \n",
            " 10  disability            32593 non-null  object\n",
            " 11  final_result          32593 non-null  object\n",
            "dtypes: int64(3), object(9)\n",
            "memory usage: 3.0+ MB\n",
            "None\n",
            "\n",
            "         id_student  num_of_prev_attempts  studied_credits\n",
            "count  3.259300e+04          32593.000000     32593.000000\n",
            "mean   7.066877e+05              0.163225        79.758691\n",
            "std    5.491673e+05              0.479758        41.071900\n",
            "min    3.733000e+03              0.000000        30.000000\n",
            "25%    5.085730e+05              0.000000        60.000000\n",
            "50%    5.903100e+05              0.000000        60.000000\n",
            "75%    6.444530e+05              0.000000       120.000000\n",
            "max    2.716795e+06              6.000000       655.000000\n",
            "\n",
            "code_module                0\n",
            "code_presentation          0\n",
            "id_student                 0\n",
            "gender                     0\n",
            "region                     0\n",
            "highest_education          0\n",
            "imd_band                1111\n",
            "age_band                   0\n",
            "num_of_prev_attempts       0\n",
            "studied_credits            0\n",
            "disability                 0\n",
            "final_result               0\n",
            "dtype: int64\n"
          ]
        }
      ]
    },
    {
      "cell_type": "markdown",
      "source": [
        "## studentRegistration.csv"
      ],
      "metadata": {
        "id": "5uRHuWXLibCo"
      }
    },
    {
      "cell_type": "code",
      "source": [
        "print(studentRegistration.head())\n",
        "print()\n",
        "print(studentRegistration.info())\n",
        "print()\n",
        "print(studentRegistration.describe())\n",
        "print()\n",
        "print(studentRegistration.isna().sum())"
      ],
      "metadata": {
        "colab": {
          "base_uri": "https://localhost:8080/"
        },
        "id": "bKDja48cfboA",
        "outputId": "b091167f-eb12-4ae1-911e-b29fb48ef063"
      },
      "execution_count": 9,
      "outputs": [
        {
          "output_type": "stream",
          "name": "stdout",
          "text": [
            "  code_module code_presentation  id_student  date_registration  \\\n",
            "0         AAA             2013J       11391             -159.0   \n",
            "1         AAA             2013J       28400              -53.0   \n",
            "2         AAA             2013J       30268              -92.0   \n",
            "3         AAA             2013J       31604              -52.0   \n",
            "4         AAA             2013J       32885             -176.0   \n",
            "\n",
            "   date_unregistration  \n",
            "0                  NaN  \n",
            "1                  NaN  \n",
            "2                 12.0  \n",
            "3                  NaN  \n",
            "4                  NaN  \n",
            "\n",
            "<class 'pandas.core.frame.DataFrame'>\n",
            "RangeIndex: 32593 entries, 0 to 32592\n",
            "Data columns (total 5 columns):\n",
            " #   Column               Non-Null Count  Dtype  \n",
            "---  ------               --------------  -----  \n",
            " 0   code_module          32593 non-null  object \n",
            " 1   code_presentation    32593 non-null  object \n",
            " 2   id_student           32593 non-null  int64  \n",
            " 3   date_registration    32548 non-null  float64\n",
            " 4   date_unregistration  10072 non-null  float64\n",
            "dtypes: float64(2), int64(1), object(2)\n",
            "memory usage: 1.2+ MB\n",
            "None\n",
            "\n",
            "         id_student  date_registration  date_unregistration\n",
            "count  3.259300e+04       32548.000000         10072.000000\n",
            "mean   7.066877e+05         -69.411300            49.757645\n",
            "std    5.491673e+05          49.260522            82.460890\n",
            "min    3.733000e+03        -322.000000          -365.000000\n",
            "25%    5.085730e+05        -100.000000            -2.000000\n",
            "50%    5.903100e+05         -57.000000            27.000000\n",
            "75%    6.444530e+05         -29.000000           109.000000\n",
            "max    2.716795e+06         167.000000           444.000000\n",
            "\n",
            "code_module                0\n",
            "code_presentation          0\n",
            "id_student                 0\n",
            "date_registration         45\n",
            "date_unregistration    22521\n",
            "dtype: int64\n"
          ]
        }
      ]
    },
    {
      "cell_type": "markdown",
      "source": [
        "## studentVle.csv"
      ],
      "metadata": {
        "id": "maDIbeTgiWjM"
      }
    },
    {
      "cell_type": "code",
      "source": [
        "#File je prevelik da bi se otvorio zbog virus scana.\n",
        "\n",
        "#print(studentVle.head())\n",
        "#print()\n",
        "#print(studentVle.info())\n",
        "#print()\n",
        "#print(studentVle.describe())\n",
        "#print()\n",
        "#print(studentVle.isna().sum())"
      ],
      "metadata": {
        "id": "8Qqf8Mv5f46P"
      },
      "execution_count": 14,
      "outputs": []
    },
    {
      "cell_type": "markdown",
      "source": [
        "## vle.csv"
      ],
      "metadata": {
        "id": "iHAKoUkZiOty"
      }
    },
    {
      "cell_type": "code",
      "source": [
        "print(vle.head())\n",
        "print()\n",
        "print(vle.info())\n",
        "print()\n",
        "print(vle.describe())\n",
        "print()\n",
        "print(vle.isna().sum())"
      ],
      "metadata": {
        "colab": {
          "base_uri": "https://localhost:8080/"
        },
        "id": "3lSYTocghDN9",
        "outputId": "6f0d517d-d1d5-4cb2-f3ad-9749b01dad54"
      },
      "execution_count": 15,
      "outputs": [
        {
          "output_type": "stream",
          "name": "stdout",
          "text": [
            "   id_site code_module code_presentation activity_type  week_from  week_to\n",
            "0   546943         AAA             2013J      resource        NaN      NaN\n",
            "1   546712         AAA             2013J     oucontent        NaN      NaN\n",
            "2   546998         AAA             2013J      resource        NaN      NaN\n",
            "3   546888         AAA             2013J           url        NaN      NaN\n",
            "4   547035         AAA             2013J      resource        NaN      NaN\n",
            "\n",
            "<class 'pandas.core.frame.DataFrame'>\n",
            "RangeIndex: 6364 entries, 0 to 6363\n",
            "Data columns (total 6 columns):\n",
            " #   Column             Non-Null Count  Dtype  \n",
            "---  ------             --------------  -----  \n",
            " 0   id_site            6364 non-null   int64  \n",
            " 1   code_module        6364 non-null   object \n",
            " 2   code_presentation  6364 non-null   object \n",
            " 3   activity_type      6364 non-null   object \n",
            " 4   week_from          1121 non-null   float64\n",
            " 5   week_to            1121 non-null   float64\n",
            "dtypes: float64(2), int64(1), object(3)\n",
            "memory usage: 298.4+ KB\n",
            "None\n",
            "\n",
            "            id_site    week_from      week_to\n",
            "count  6.364000e+03  1121.000000  1121.000000\n",
            "mean   7.260991e+05    15.204282    15.214987\n",
            "std    1.283151e+05     8.792865     8.779806\n",
            "min    5.267210e+05     0.000000     0.000000\n",
            "25%    6.615928e+05     8.000000     8.000000\n",
            "50%    7.300965e+05    15.000000    15.000000\n",
            "75%    8.140162e+05    22.000000    22.000000\n",
            "max    1.077905e+06    29.000000    29.000000\n",
            "\n",
            "id_site                 0\n",
            "code_module             0\n",
            "code_presentation       0\n",
            "activity_type           0\n",
            "week_from            5243\n",
            "week_to              5243\n",
            "dtype: int64\n"
          ]
        }
      ]
    },
    {
      "cell_type": "markdown",
      "source": [
        "# Vizualizacije"
      ],
      "metadata": {
        "id": "nGkNjH4cm2fH"
      }
    },
    {
      "cell_type": "code",
      "source": [
        "plt.hist(studentInfo.age_band)\n",
        "plt.show()"
      ],
      "metadata": {
        "colab": {
          "base_uri": "https://localhost:8080/",
          "height": 265
        },
        "id": "yPngjw8pi3Xk",
        "outputId": "8f2d5fe4-8ef7-4a94-a826-ce505925298d"
      },
      "execution_count": 22,
      "outputs": [
        {
          "output_type": "display_data",
          "data": {
            "text/plain": [
              "<Figure size 432x288 with 1 Axes>"
            ],
            "image/png": "[encoded data removed]"
          },
          "metadata": {
            "needs_background": "light"
          }
        }
      ]
    },
    {
      "cell_type": "code",
      "source": [
        "count_per_education = studentInfo.groupby('highest_education').count().loc[:,'id_student'].values\n",
        "education_student = studentInfo.groupby('highest_education').count().index.values\n",
        "\n",
        "plt.pie(count_per_education, labels=education_student, autopct='%.1f')\n",
        "plt.show()"
      ],
      "metadata": {
        "colab": {
          "base_uri": "https://localhost:8080/",
          "height": 248
        },
        "id": "jQ0XWrYzn6JG",
        "outputId": "76515545-40a9-4628-fe19-9b36d477ca0f"
      },
      "execution_count": 27,
      "outputs": [
        {
          "output_type": "display_data",
          "data": {
            "text/plain": [
              "<Figure size 432x288 with 1 Axes>"
            ],
            "image/png": "[encoded data removed]"
          },
          "metadata": {}
        }
      ]
    },
    {
      "cell_type": "code",
      "source": [
        "count_per_education = studentInfo.groupby('highest_education').count().loc[:,'id_student'].values\n",
        "education_student = studentInfo.groupby('highest_education').count().index.values\n",
        "\n",
        "plt.bar(education_student, count_per_education, color='yellow')\n",
        "plt.show()"
      ],
      "metadata": {
        "colab": {
          "base_uri": "https://localhost:8080/",
          "height": 265
        },
        "id": "m--Hh2DepoeQ",
        "outputId": "efd9b95f-6f45-410a-b826-6aae2ffff548"
      },
      "execution_count": 52,
      "outputs": [
        {
          "output_type": "display_data",
          "data": {
            "text/plain": [
              "<Figure size 432x288 with 1 Axes>"
            ],
            "image/png": "[encoded data removed]"
          },
          "metadata": {
            "needs_background": "light"
          }
        }
      ]
    },
    {
      "cell_type": "code",
      "source": [
        "#mask_disability = studentInfo.disability == 'N'\n",
        "\n",
        "\n",
        "#count_per_education_nodis = studentInfo.loc[~mask_disability,:].groupby('highest_education').count().loc[:,'id_student'].values\n",
        "#count_per_education_dis = studentInfo.loc[mask_disability,:].groupby('highest_education').count().loc[:,'id_student'].values\n",
        "#educ_stud = studentInfo.groupby('highest_education').count().index.values\n",
        "\n",
        "# plot\n",
        "#plt.bar(educ_stud, count_per_education_dis, color='green', label='no disability')\n",
        "#plt.bar(educ_stud, count_per_education_nodis, color='red', label='with disability', bottom=count_per_education_nodis)\n",
        "#plt.legend(loc='best')\n",
        "#plt.grid()\n",
        "#plt.show()\n",
        "\n"
      ],
      "metadata": {
        "id": "7DibQ-Ebq3DC"
      },
      "execution_count": 46,
      "outputs": []
    },
    {
      "cell_type": "code",
      "source": [
        "count_per_final_result = studentInfo.groupby('final_result').count().loc[:,'id_student'].values\n",
        "title_name = studentInfo.groupby('final_result').count().index.values\n",
        "\n",
        "plt.bar(title_name, count_per_final_result)\n",
        "plt.show()"
      ],
      "metadata": {
        "colab": {
          "base_uri": "https://localhost:8080/",
          "height": 265
        },
        "id": "Sq7MRlXGsxnS",
        "outputId": "d7ccb554-0d5d-4ad6-f95a-73c5773945c3"
      },
      "execution_count": 49,
      "outputs": [
        {
          "output_type": "display_data",
          "data": {
            "text/plain": [
              "<Figure size 432x288 with 1 Axes>"
            ],
            "image/png": "[encoded data removed]"
          },
          "metadata": {
            "needs_background": "light"
          }
        }
      ]
    },
    {
      "cell_type": "code",
      "source": [
        "count_per_gender = studentInfo.groupby('gender').count().loc[:,'id_student'].values\n",
        "title_name = studentInfo.groupby('gender').count().index.values\n",
        "\n",
        "plt.bar(title_name, count_per_gender, color='green')\n",
        "plt.show()"
      ],
      "metadata": {
        "colab": {
          "base_uri": "https://localhost:8080/",
          "height": 265
        },
        "id": "0m_-ldJExdfV",
        "outputId": "c2390e06-27b1-488f-ae3d-0d264963b9b2"
      },
      "execution_count": 53,
      "outputs": [
        {
          "output_type": "display_data",
          "data": {
            "text/plain": [
              "<Figure size 432x288 with 1 Axes>"
            ],
            "image/png": "[encoded data removed]"
          },
          "metadata": {
            "needs_background": "light"
          }
        }
      ]
    }
  ]
}